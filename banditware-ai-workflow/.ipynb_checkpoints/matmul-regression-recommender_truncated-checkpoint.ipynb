{
 "cells": [
  {
   "cell_type": "code",
   "execution_count": 1,
   "id": "2fd243e9",
   "metadata": {},
   "outputs": [],
   "source": [
    "import os\n",
    "import warnings\n",
    "import sys\n",
    "import pathlib\n",
    "import numpy as np\n",
    "import pandas as pd\n",
    "import matplotlib.pylab as plt\n",
    "import plotly\n",
    "import seaborn as sns\n",
    "from scipy import stats\n",
    "import statsmodels.api as sm\n",
    "import statsmodels.formula.api as smf\n",
    "import random\n",
    "from random import choices\n",
    "from string import ascii_lowercase, digits\n",
    "import datetime\n",
    "from pathlib import Path\n",
    "from functools import partial\n",
    "from itertools import starmap\n",
    "from dotenv import load_dotenv\n",
    "import requests\n",
    "\n",
    "from sklearn.linear_model import LinearRegression\n",
    "from sklearn.preprocessing import LabelEncoder\n",
    "from sklearn.metrics import mean_squared_error, mean_absolute_error, r2_score\n",
    "from sklearn.model_selection import train_test_split\n",
    "from sklearn.impute import SimpleImputer\n",
    "from sklearn import preprocessing\n",
    "from sklearn.utils import shuffle\n",
    "\n",
    "import mlflow\n",
    "from mlflow import MlflowClient\n",
    "import mlflow.sklearn\n",
    "from mlflow.models import infer_signature\n",
    "from mlflow.models import Model\n",
    "from mlflow.data.pandas_dataset import PandasDataset\n",
    "\n",
    "# set mlflow traking uri\n",
    "mlflow.set_tracking_uri(uri=\"http://127.0.0.1:5000\")\n",
    "mlflow.enable_system_metrics_logging()"
   ]
  },
  {
   "cell_type": "code",
   "execution_count": 2,
   "id": "d354c706",
   "metadata": {},
   "outputs": [],
   "source": [
    "this_dir = pathlib.Path()\n",
    "parent_dir = this_dir.resolve().parent\n",
    "data_dir = this_dir / \"matmul-data\"\n",
    "\n",
    "# create results directory, if not already existing\n",
    "cwd = os.getcwd()\n",
    "results_dir = os.path.join(cwd, r'matmul_results')\n",
    "if not os.path.exists(results_dir):\n",
    "    os.makedirs(results_dir)"
   ]
  },
  {
   "cell_type": "markdown",
   "id": "e7c01a4c",
   "metadata": {},
   "source": [
    "# Implement a simple recommender algorithm as linear regression"
   ]
  },
  {
   "cell_type": "markdown",
   "id": "993c2f87",
   "metadata": {},
   "source": [
    "# Eval and plotting functions"
   ]
  },
  {
   "cell_type": "code",
   "execution_count": 3,
   "id": "64b486f3",
   "metadata": {},
   "outputs": [],
   "source": [
    "# MODEL EVALUATION FUNCTIONS #\n",
    "\n",
    "def eval_metrics(actual, pred):\n",
    "        rmse = np.sqrt(mean_squared_error(actual, pred))\n",
    "        mae = mean_absolute_error(actual, pred)\n",
    "        r2 = r2_score(actual, pred)\n",
    "        return rmse, mae, r2"
   ]
  },
  {
   "cell_type": "markdown",
   "id": "edddd16b",
   "metadata": {},
   "source": [
    "# Data Prep"
   ]
  },
  {
   "cell_type": "raw",
   "id": "7313f531",
   "metadata": {},
   "source": [
    "Matmul key:\n",
    "0 = (1, 8)\n",
    "1 = (2, 8)\n",
    "2 = (3, 8)\n",
    "3 = (4, 8)\n",
    "4 = (8, 8)"
   ]
  },
  {
   "cell_type": "markdown",
   "id": "4cbbca93",
   "metadata": {},
   "source": [
    "hw_dict = {0 : (1,8), 1 : (2,8), 2 : (3,8) : 3 : (4,8), 4 : (8,8)}"
   ]
  },
  {
   "cell_type": "code",
   "execution_count": 4,
   "id": "aac8cf13",
   "metadata": {},
   "outputs": [],
   "source": [
    "# # Prepare data\n",
    "# def data_prep(filename='train.csv', features=[\"size\", \"sparsity\", \"min\", \"max\"]):\n",
    "# # Read and log the input data \n",
    "#     data_filepath = data_dir / filename\n",
    "#     data = pd.read_csv(data_filepath)\n",
    "#     data_artifact = mlflow.data.from_pandas(data)  # log when run is started\n",
    "    \n",
    "    \n",
    "#     ## DATA PREPROCESSING STEPS ##\n",
    "#     # remove noisy features \n",
    "#     feature_cols = data[features]\n",
    "#     df = pd.concat([feature_cols, data['hardware']], axis=1)\n",
    "    \n",
    "#     print(df.columns)\n",
    "#     # Replace infty values with NaN\n",
    "#     df.replace(['inf', np.inf, -np.inf], np.nan, inplace=True)\n",
    "\n",
    "#     # Impute NaN values with mean\n",
    "#     imp_mean = SimpleImputer(missing_values=np.nan, strategy='mean')\n",
    "#     sample_data = df.sample(frac=0.25).dropna()\n",
    "#     imp_mean.fit(df)\n",
    "#     df = pd.DataFrame(imp_mean.fit_transform(df), columns = df.columns)\n",
    "    \n",
    "#     # Encode categorical features\n",
    "#     for col_name in feature_cols.columns.tolist():\n",
    "#         df[col_name] = df[col_name].astype('category').cat.codes\n",
    "    \n",
    "#     return df, data_artifact\n",
    "\n",
    "\n",
    "# def data_split(df, seed=None, num_samples=None, autologging=True):\n",
    "#     # Determine number of samples to take from data\n",
    "#     if num_samples is not None:\n",
    "#         train = df.sample(n=num_samples, random_state=seed)\n",
    "#         df = df[~df.index.isin(train.index)]\n",
    "#     else:\n",
    "#         train = df\n",
    "    \n",
    "#     # Split the data into training and testing (.8, .2) split\n",
    "#     test_size = round(df.shape[0]*0.2)\n",
    "#     train_temp, test = train_test_split(df, test_size=test_size, random_state=seed, shuffle=True)\n",
    "    \n",
    "#     return train, test"
   ]
  },
  {
   "cell_type": "code",
   "execution_count": 5,
   "id": "8b0a06fc",
   "metadata": {},
   "outputs": [],
   "source": [
    "# from scipy.stats import norm\n",
    "\n",
    "# # calculate the z* for a 90% confidence interval\n",
    "# confidence_level = 0.9\n",
    "# alpha = 1-confidence_level\n",
    "# z_star = norm.ppf(1 - alpha/2)\n",
    "\n",
    "# z_star"
   ]
  },
  {
   "cell_type": "code",
   "execution_count": 6,
   "id": "8c2de087",
   "metadata": {},
   "outputs": [],
   "source": [
    "# from scipy.stats import norm\n",
    "\n",
    "# z = -1\n",
    "# probability = norm.cdf(z)\n",
    "\n",
    "# 1 - probability"
   ]
  },
  {
   "cell_type": "code",
   "execution_count": 7,
   "id": "017c88e7",
   "metadata": {},
   "outputs": [],
   "source": [
    "# Prepare data\n",
    "def data_prep(filename='size_5k+.csv', features=['size','sparsity','min','max','cpu_cores','runtime']):\n",
    "# Read and log the input data \n",
    "    data_filepath = data_dir / filename\n",
    "    data = pd.read_csv(data_filepath)\n",
    "    data_artifact = mlflow.data.from_pandas(data)  # log when run is started\n",
    "    \n",
    "    \n",
    "    ## DATA PREPROCESSING STEPS ##\n",
    "    \n",
    "    # create target column\n",
    "    data[\"hardware_unencoded\"] = list(zip(data['cpu_cores'], data['runtime']))\n",
    "    data['hardware_as_strings'] = data['hardware_unencoded'].apply(lambda x: ', '.join(map(str, x)))\n",
    "    \n",
    "    # encode targets\n",
    "    label_encoder = LabelEncoder()\n",
    "    data['hardware'] = label_encoder.fit_transform(data['hardware_as_strings'])\n",
    "\n",
    "    \n",
    "    # remove noisy features \n",
    "    feature_cols = data[features]\n",
    "    df = pd.concat([feature_cols, data['hardware']], axis=1)\n",
    "    \n",
    "    print(df.columns)\n",
    "    # Replace infty values with NaN\n",
    "    df.replace(['inf', np.inf, -np.inf], np.nan, inplace=True)\n",
    "\n",
    "    # Impute NaN values with mean\n",
    "    imp_mean = SimpleImputer(missing_values=np.nan, strategy='mean')\n",
    "    sample_data = df.sample(frac=0.25).dropna()\n",
    "    imp_mean.fit(df)\n",
    "    df = pd.DataFrame(imp_mean.fit_transform(df), columns = df.columns)\n",
    "    \n",
    "    # Encode categorical features\n",
    "    for col_name in feature_cols.columns.tolist():\n",
    "        df[col_name] = df[col_name].astype('category').cat.codes\n",
    "    \n",
    "    return df, data_artifact\n",
    "    \n",
    "    \n",
    "def data_split(df, seed=None, num_samples=None, autologging=True):\n",
    "    # Determine number of samples to take from data\n",
    "    if num_samples is not None:\n",
    "        train = df.sample(n=num_samples, random_state=seed)\n",
    "        df = df[~df.index.isin(train.index)]\n",
    "    else:\n",
    "        train = df\n",
    "    \n",
    "    # Split the data into training and testing (.8, .2) split\n",
    "    test_size = round(df.shape[0]*0.2)\n",
    "    train_temp, test = train_test_split(df, test_size=test_size, random_state=seed, shuffle=True)\n",
    "    \n",
    "    return train, test"
   ]
  },
  {
   "cell_type": "markdown",
   "id": "24addef5",
   "metadata": {},
   "source": [
    "# Training"
   ]
  },
  {
   "cell_type": "code",
   "execution_count": 8,
   "id": "876e4eb8",
   "metadata": {},
   "outputs": [],
   "source": [
    "## DEFINE MODEL TRAINING FUNCTIONS##\n",
    "# TODO: Separate preprocessing and training/evaluation\n",
    "\n",
    "def train_recommender(train, test, experiment_id, seed=None, data_artifact=None, num_epochs=None, autologging=True):\n",
    "    mlflow.autolog()  # enable autologging\n",
    "    mlflow.sklearn.autolog()\n",
    "\n",
    "\n",
    "    # The target column\n",
    "    train_x = train.drop([\"hardware\"], axis=1)\n",
    "    test_x = test.drop([\"hardware\"], axis=1)\n",
    "    train_y = train[[\"hardware\"]]\n",
    "    test_y = test[[\"hardware\"]]\n",
    "\n",
    "    \n",
    "    ## storage settings ##\n",
    "    model_type = 'LinearRegression'\n",
    "    now = datetime.datetime.now().strftime(\"%Y_%m_%d_%I%M%S%p\")\n",
    "    run_name = model_type + '_' + now\n",
    "    \n",
    "    \n",
    "    ## MLFLOW RUN ##\n",
    "    # useful for multiple runs\n",
    "    with mlflow.start_run(experiment_id=experiment_id, run_name=run_name, nested=True, log_system_metrics=True):\n",
    "        mlflow.sklearn.autolog()\n",
    "#         e_start = 1.0\n",
    "#         e_decay = 0.99\n",
    "        \n",
    "#         for epoch in range(0, num_epochs):\n",
    "#             # Decay epsilon\n",
    "#             epsilon = max(e_start * e_decay, 0)\n",
    "\n",
    "\n",
    "        # Execute recommender system\n",
    "        model = LinearRegression()\n",
    "        model.fit(train_x, train_y)\n",
    "\n",
    "\n",
    "\n",
    "        # Create model artifact directory\n",
    "        # cwd = os.getcwd()\n",
    "        artifacts_dir = os.path.join(results_dir, run_name)\n",
    "        if not os.path.exists(artifacts_dir):\n",
    "            os.makedirs(artifacts_dir)\n",
    "            \n",
    "            \n",
    "        # SET AND LOG PARAMETERS # \n",
    "        # (some model parameters will be autologged mlflow but not optuna)\n",
    "        mlflow.log_param(\"model_seed\", seed)\n",
    "        \n",
    "\n",
    "\n",
    "        ## IF AUTOLOGGING IS NOT ENABLED ##\n",
    "        if autologging==False:\n",
    "            \n",
    "            # Log and download artifacts locally --- file upload not yet supported in NDP JupyterHub\n",
    "            active_run = mlflow.active_run()\n",
    "            mlflow.artifacts.download_artifacts(run_id = active_run.info.run_id, dst_path=artifacts_dir)\n",
    "            mlflow.sklearn.log_model(sk_model=lr, input_example=test_x, artifact_path=artifacts_dir)\n",
    "        \n",
    "       \n",
    "    # log runtime\n",
    "\n",
    "\n",
    "    mlflow.end_run()   # END CURRENT RUN BEFORE STARTING NEW RUN"
   ]
  },
  {
   "cell_type": "code",
   "execution_count": 9,
   "id": "5eae01ad",
   "metadata": {},
   "outputs": [],
   "source": [
    "def get_best_model(experiment_id=None):\n",
    "    \n",
    "    # Opt. for now: get best run\n",
    "    best_run = mlflow.search_runs(\n",
    "        experiment_id, order_by=[\"metrics.eval_rmse\"], max_results=1\n",
    "    )\n",
    "    print(best_run.info)\n",
    "    \n",
    "    return None"
   ]
  },
  {
   "cell_type": "markdown",
   "id": "a6fc105b",
   "metadata": {},
   "source": [
    "# Run experiments"
   ]
  },
  {
   "cell_type": "code",
   "execution_count": 10,
   "id": "42fc186f",
   "metadata": {},
   "outputs": [],
   "source": [
    "## EXPERIMENT FUNCTION ##\n",
    "def run_experiment(num_runs=10, train_func=train_recommender, num_samples=None, num_epochs=None, experiment_name=None):\n",
    "    \n",
    "    \n",
    "    # Generate experiment name\n",
    "    random_suffix = \"\".join(choices(ascii_lowercase, k=2)+choices(digits, k=3))\n",
    "    experiment_name = 'Recommender_matmul_5k_'+random_suffix\n",
    "        \n",
    "    # create experiment (if not existing)\n",
    "    try:\n",
    "        mlflow.create_experiment(experiment_name)\n",
    "    except:\n",
    "        pass\n",
    "    \n",
    "    mlflow.set_experiment(experiment_name)\n",
    "\n",
    "    \n",
    "    # Get experiment ID\n",
    "    experiment = mlflow.get_experiment_by_name(experiment_name)\n",
    "    experiment_id = experiment.experiment_id\n",
    "    \n",
    "    # prep data\n",
    "#     df, data_artifact = data_prep(features=[\"area\", \"run_max_mem_rss_bytes\", \"sim_time\"])\n",
    "    train, train_artifact = data_prep(filename='train.csv')\n",
    "    test, test_artifact = data_prep(filename='test.csv')\n",
    "    \n",
    "    \n",
    "    # combine to whole dataframe\n",
    "    df = pd.concat([train, test], axis=0) \n",
    "    \n",
    "    # Run experiments on train and test data\n",
    "    \n",
    "    for i in range(num_runs):\n",
    "        # Generate random seed\n",
    "        #warnings.filterwarnings(\"ignore\")\n",
    "        np_max_int = np.iinfo(np.int32).max\n",
    "        seed = np.random.randint(np_max_int)\n",
    "        np.random.seed(seed)\n",
    "        \n",
    "        # shuffle and split data\n",
    "        train, test = data_split(df, num_samples=num_samples, seed=seed)\n",
    "\n",
    "        \n",
    "        # train recommender\n",
    "        train_recommender(train, test, experiment_id, seed=seed, num_epochs=10)\n",
    "        \n",
    "    \n",
    "    \n",
    "    return experiment_id"
   ]
  },
  {
   "cell_type": "code",
   "execution_count": null,
   "id": "87ce771f",
   "metadata": {},
   "outputs": [
    {
     "name": "stderr",
     "output_type": "stream",
     "text": [
      "2024/12/23 11:44:28 INFO mlflow.tracking.fluent: Autologging successfully enabled for statsmodels.\n"
     ]
    },
    {
     "name": "stdout",
     "output_type": "stream",
     "text": [
      "Index(['size', 'sparsity', 'min', 'max', 'cpu_cores', 'runtime', 'hardware'], dtype='object')\n",
      "Index(['size', 'sparsity', 'min', 'max', 'cpu_cores', 'runtime', 'hardware'], dtype='object')\n"
     ]
    },
    {
     "name": "stderr",
     "output_type": "stream",
     "text": [
      "2024/12/23 11:44:28 INFO mlflow.tracking.fluent: Autologging successfully enabled for sklearn.\n",
      "2024/12/23 11:44:29 WARNING mlflow.system_metrics.system_metrics_monitor: Skip logging GPU metrics because creating `GPUMonitor` failed with error: `pynvml` is not installed, to log GPU metrics please run `pip install pynvml` to install it..\n",
      "2024/12/23 11:44:29 INFO mlflow.system_metrics.system_metrics_monitor: Started monitoring system metrics.\n",
      "2024/12/23 11:44:29 WARNING mlflow.utils.autologging_utils: MLflow autologging encountered a warning: \"/Users/Hena/anaconda3/lib/python3.11/site-packages/mlflow/types/utils.py:393: UserWarning: Hint: Inferred schema contains integer column(s). Integer columns in Python cannot represent missing values. If your input data contains missing values at inference time, it will be encoded as floats and will cause a schema enforcement error. The best way to avoid this problem is to infer the model schema based on a realistic data sample (training dataset) that includes missing values. Alternatively, you can declare integer columns as doubles (float64) whenever these columns may have missing values. See `Handling Integers With Missing Values <https://www.mlflow.org/docs/latest/models.html#handling-integers-with-missing-values>`_ for more details.\"\n",
      "2024/12/23 11:44:29 WARNING mlflow.utils.autologging_utils: MLflow autologging encountered a warning: \"/Users/Hena/anaconda3/lib/python3.11/site-packages/mlflow/types/utils.py:393: UserWarning: Hint: Inferred schema contains integer column(s). Integer columns in Python cannot represent missing values. If your input data contains missing values at inference time, it will be encoded as floats and will cause a schema enforcement error. The best way to avoid this problem is to infer the model schema based on a realistic data sample (training dataset) that includes missing values. Alternatively, you can declare integer columns as doubles (float64) whenever these columns may have missing values. See `Handling Integers With Missing Values <https://www.mlflow.org/docs/latest/models.html#handling-integers-with-missing-values>`_ for more details.\"\n",
      "2024/12/23 11:44:31 WARNING mlflow.utils.autologging_utils: MLflow autologging encountered a warning: \"/Users/Hena/anaconda3/lib/python3.11/site-packages/_distutils_hack/__init__.py:33: UserWarning: Setuptools is replacing distutils.\"\n",
      "2024/12/23 11:44:31 INFO mlflow.system_metrics.system_metrics_monitor: Stopping system metrics monitoring...\n",
      "2024/12/23 11:44:31 INFO mlflow.system_metrics.system_metrics_monitor: Successfully terminated system metrics monitoring!\n",
      "2024/12/23 11:44:31 INFO mlflow.tracking.fluent: Autologging successfully enabled for statsmodels.\n",
      "2024/12/23 11:44:31 WARNING mlflow.system_metrics.system_metrics_monitor: Skip logging GPU metrics because creating `GPUMonitor` failed with error: `pynvml` is not installed, to log GPU metrics please run `pip install pynvml` to install it..\n",
      "2024/12/23 11:44:31 INFO mlflow.system_metrics.system_metrics_monitor: Started monitoring system metrics.\n",
      "2024/12/23 11:44:31 WARNING mlflow.utils.autologging_utils: MLflow autologging encountered a warning: \"/Users/Hena/anaconda3/lib/python3.11/site-packages/mlflow/types/utils.py:393: UserWarning: Hint: Inferred schema contains integer column(s). Integer columns in Python cannot represent missing values. If your input data contains missing values at inference time, it will be encoded as floats and will cause a schema enforcement error. The best way to avoid this problem is to infer the model schema based on a realistic data sample (training dataset) that includes missing values. Alternatively, you can declare integer columns as doubles (float64) whenever these columns may have missing values. See `Handling Integers With Missing Values <https://www.mlflow.org/docs/latest/models.html#handling-integers-with-missing-values>`_ for more details.\"\n",
      "2024/12/23 11:44:31 WARNING mlflow.utils.autologging_utils: MLflow autologging encountered a warning: \"/Users/Hena/anaconda3/lib/python3.11/site-packages/mlflow/types/utils.py:393: UserWarning: Hint: Inferred schema contains integer column(s). Integer columns in Python cannot represent missing values. If your input data contains missing values at inference time, it will be encoded as floats and will cause a schema enforcement error. The best way to avoid this problem is to infer the model schema based on a realistic data sample (training dataset) that includes missing values. Alternatively, you can declare integer columns as doubles (float64) whenever these columns may have missing values. See `Handling Integers With Missing Values <https://www.mlflow.org/docs/latest/models.html#handling-integers-with-missing-values>`_ for more details.\"\n",
      "2024/12/23 11:44:32 INFO mlflow.system_metrics.system_metrics_monitor: Stopping system metrics monitoring...\n",
      "2024/12/23 11:44:32 INFO mlflow.system_metrics.system_metrics_monitor: Successfully terminated system metrics monitoring!\n",
      "2024/12/23 11:44:33 INFO mlflow.tracking.fluent: Autologging successfully enabled for statsmodels.\n",
      "2024/12/23 11:44:33 WARNING mlflow.system_metrics.system_metrics_monitor: Skip logging GPU metrics because creating `GPUMonitor` failed with error: `pynvml` is not installed, to log GPU metrics please run `pip install pynvml` to install it..\n",
      "2024/12/23 11:44:33 INFO mlflow.system_metrics.system_metrics_monitor: Started monitoring system metrics.\n",
      "2024/12/23 11:44:33 WARNING mlflow.utils.autologging_utils: MLflow autologging encountered a warning: \"/Users/Hena/anaconda3/lib/python3.11/site-packages/mlflow/types/utils.py:393: UserWarning: Hint: Inferred schema contains integer column(s). Integer columns in Python cannot represent missing values. If your input data contains missing values at inference time, it will be encoded as floats and will cause a schema enforcement error. The best way to avoid this problem is to infer the model schema based on a realistic data sample (training dataset) that includes missing values. Alternatively, you can declare integer columns as doubles (float64) whenever these columns may have missing values. See `Handling Integers With Missing Values <https://www.mlflow.org/docs/latest/models.html#handling-integers-with-missing-values>`_ for more details.\"\n",
      "2024/12/23 11:44:33 WARNING mlflow.utils.autologging_utils: MLflow autologging encountered a warning: \"/Users/Hena/anaconda3/lib/python3.11/site-packages/mlflow/types/utils.py:393: UserWarning: Hint: Inferred schema contains integer column(s). Integer columns in Python cannot represent missing values. If your input data contains missing values at inference time, it will be encoded as floats and will cause a schema enforcement error. The best way to avoid this problem is to infer the model schema based on a realistic data sample (training dataset) that includes missing values. Alternatively, you can declare integer columns as doubles (float64) whenever these columns may have missing values. See `Handling Integers With Missing Values <https://www.mlflow.org/docs/latest/models.html#handling-integers-with-missing-values>`_ for more details.\"\n",
      "2024/12/23 11:44:34 INFO mlflow.system_metrics.system_metrics_monitor: Stopping system metrics monitoring...\n",
      "2024/12/23 11:44:34 INFO mlflow.system_metrics.system_metrics_monitor: Successfully terminated system metrics monitoring!\n",
      "2024/12/23 11:44:34 INFO mlflow.tracking.fluent: Autologging successfully enabled for statsmodels.\n",
      "2024/12/23 11:44:34 WARNING mlflow.system_metrics.system_metrics_monitor: Skip logging GPU metrics because creating `GPUMonitor` failed with error: `pynvml` is not installed, to log GPU metrics please run `pip install pynvml` to install it..\n",
      "2024/12/23 11:44:34 INFO mlflow.system_metrics.system_metrics_monitor: Started monitoring system metrics.\n",
      "2024/12/23 11:44:34 WARNING mlflow.utils.autologging_utils: MLflow autologging encountered a warning: \"/Users/Hena/anaconda3/lib/python3.11/site-packages/mlflow/types/utils.py:393: UserWarning: Hint: Inferred schema contains integer column(s). Integer columns in Python cannot represent missing values. If your input data contains missing values at inference time, it will be encoded as floats and will cause a schema enforcement error. The best way to avoid this problem is to infer the model schema based on a realistic data sample (training dataset) that includes missing values. Alternatively, you can declare integer columns as doubles (float64) whenever these columns may have missing values. See `Handling Integers With Missing Values <https://www.mlflow.org/docs/latest/models.html#handling-integers-with-missing-values>`_ for more details.\"\n"
     ]
    },
    {
     "name": "stderr",
     "output_type": "stream",
     "text": [
      "2024/12/23 11:44:34 WARNING mlflow.utils.autologging_utils: MLflow autologging encountered a warning: \"/Users/Hena/anaconda3/lib/python3.11/site-packages/mlflow/types/utils.py:393: UserWarning: Hint: Inferred schema contains integer column(s). Integer columns in Python cannot represent missing values. If your input data contains missing values at inference time, it will be encoded as floats and will cause a schema enforcement error. The best way to avoid this problem is to infer the model schema based on a realistic data sample (training dataset) that includes missing values. Alternatively, you can declare integer columns as doubles (float64) whenever these columns may have missing values. See `Handling Integers With Missing Values <https://www.mlflow.org/docs/latest/models.html#handling-integers-with-missing-values>`_ for more details.\"\n",
      "2024/12/23 11:44:36 INFO mlflow.system_metrics.system_metrics_monitor: Stopping system metrics monitoring...\n",
      "2024/12/23 11:44:36 INFO mlflow.system_metrics.system_metrics_monitor: Successfully terminated system metrics monitoring!\n",
      "2024/12/23 11:44:36 INFO mlflow.tracking.fluent: Autologging successfully enabled for statsmodels.\n",
      "2024/12/23 11:44:36 WARNING mlflow.system_metrics.system_metrics_monitor: Skip logging GPU metrics because creating `GPUMonitor` failed with error: `pynvml` is not installed, to log GPU metrics please run `pip install pynvml` to install it..\n",
      "2024/12/23 11:44:36 INFO mlflow.system_metrics.system_metrics_monitor: Started monitoring system metrics.\n",
      "2024/12/23 11:44:36 WARNING mlflow.utils.autologging_utils: MLflow autologging encountered a warning: \"/Users/Hena/anaconda3/lib/python3.11/site-packages/mlflow/types/utils.py:393: UserWarning: Hint: Inferred schema contains integer column(s). Integer columns in Python cannot represent missing values. If your input data contains missing values at inference time, it will be encoded as floats and will cause a schema enforcement error. The best way to avoid this problem is to infer the model schema based on a realistic data sample (training dataset) that includes missing values. Alternatively, you can declare integer columns as doubles (float64) whenever these columns may have missing values. See `Handling Integers With Missing Values <https://www.mlflow.org/docs/latest/models.html#handling-integers-with-missing-values>`_ for more details.\"\n",
      "2024/12/23 11:44:36 WARNING mlflow.utils.autologging_utils: MLflow autologging encountered a warning: \"/Users/Hena/anaconda3/lib/python3.11/site-packages/mlflow/types/utils.py:393: UserWarning: Hint: Inferred schema contains integer column(s). Integer columns in Python cannot represent missing values. If your input data contains missing values at inference time, it will be encoded as floats and will cause a schema enforcement error. The best way to avoid this problem is to infer the model schema based on a realistic data sample (training dataset) that includes missing values. Alternatively, you can declare integer columns as doubles (float64) whenever these columns may have missing values. See `Handling Integers With Missing Values <https://www.mlflow.org/docs/latest/models.html#handling-integers-with-missing-values>`_ for more details.\"\n",
      "2024/12/23 11:44:37 INFO mlflow.system_metrics.system_metrics_monitor: Stopping system metrics monitoring...\n",
      "2024/12/23 11:44:37 INFO mlflow.system_metrics.system_metrics_monitor: Successfully terminated system metrics monitoring!\n",
      "2024/12/23 11:44:37 INFO mlflow.tracking.fluent: Autologging successfully enabled for statsmodels.\n",
      "2024/12/23 11:44:38 WARNING mlflow.system_metrics.system_metrics_monitor: Skip logging GPU metrics because creating `GPUMonitor` failed with error: `pynvml` is not installed, to log GPU metrics please run `pip install pynvml` to install it..\n",
      "2024/12/23 11:44:38 INFO mlflow.system_metrics.system_metrics_monitor: Started monitoring system metrics.\n",
      "2024/12/23 11:44:38 WARNING mlflow.utils.autologging_utils: MLflow autologging encountered a warning: \"/Users/Hena/anaconda3/lib/python3.11/site-packages/mlflow/types/utils.py:393: UserWarning: Hint: Inferred schema contains integer column(s). Integer columns in Python cannot represent missing values. If your input data contains missing values at inference time, it will be encoded as floats and will cause a schema enforcement error. The best way to avoid this problem is to infer the model schema based on a realistic data sample (training dataset) that includes missing values. Alternatively, you can declare integer columns as doubles (float64) whenever these columns may have missing values. See `Handling Integers With Missing Values <https://www.mlflow.org/docs/latest/models.html#handling-integers-with-missing-values>`_ for more details.\"\n",
      "2024/12/23 11:44:38 WARNING mlflow.utils.autologging_utils: MLflow autologging encountered a warning: \"/Users/Hena/anaconda3/lib/python3.11/site-packages/mlflow/types/utils.py:393: UserWarning: Hint: Inferred schema contains integer column(s). Integer columns in Python cannot represent missing values. If your input data contains missing values at inference time, it will be encoded as floats and will cause a schema enforcement error. The best way to avoid this problem is to infer the model schema based on a realistic data sample (training dataset) that includes missing values. Alternatively, you can declare integer columns as doubles (float64) whenever these columns may have missing values. See `Handling Integers With Missing Values <https://www.mlflow.org/docs/latest/models.html#handling-integers-with-missing-values>`_ for more details.\"\n",
      "2024/12/23 11:44:39 INFO mlflow.system_metrics.system_metrics_monitor: Stopping system metrics monitoring...\n",
      "2024/12/23 11:44:39 INFO mlflow.system_metrics.system_metrics_monitor: Successfully terminated system metrics monitoring!\n",
      "2024/12/23 11:44:39 INFO mlflow.tracking.fluent: Autologging successfully enabled for statsmodels.\n",
      "2024/12/23 11:44:39 WARNING mlflow.system_metrics.system_metrics_monitor: Skip logging GPU metrics because creating `GPUMonitor` failed with error: `pynvml` is not installed, to log GPU metrics please run `pip install pynvml` to install it..\n",
      "2024/12/23 11:44:39 INFO mlflow.system_metrics.system_metrics_monitor: Started monitoring system metrics.\n",
      "2024/12/23 11:44:39 WARNING mlflow.utils.autologging_utils: MLflow autologging encountered a warning: \"/Users/Hena/anaconda3/lib/python3.11/site-packages/mlflow/types/utils.py:393: UserWarning: Hint: Inferred schema contains integer column(s). Integer columns in Python cannot represent missing values. If your input data contains missing values at inference time, it will be encoded as floats and will cause a schema enforcement error. The best way to avoid this problem is to infer the model schema based on a realistic data sample (training dataset) that includes missing values. Alternatively, you can declare integer columns as doubles (float64) whenever these columns may have missing values. See `Handling Integers With Missing Values <https://www.mlflow.org/docs/latest/models.html#handling-integers-with-missing-values>`_ for more details.\"\n",
      "2024/12/23 11:44:39 WARNING mlflow.utils.autologging_utils: MLflow autologging encountered a warning: \"/Users/Hena/anaconda3/lib/python3.11/site-packages/mlflow/types/utils.py:393: UserWarning: Hint: Inferred schema contains integer column(s). Integer columns in Python cannot represent missing values. If your input data contains missing values at inference time, it will be encoded as floats and will cause a schema enforcement error. The best way to avoid this problem is to infer the model schema based on a realistic data sample (training dataset) that includes missing values. Alternatively, you can declare integer columns as doubles (float64) whenever these columns may have missing values. See `Handling Integers With Missing Values <https://www.mlflow.org/docs/latest/models.html#handling-integers-with-missing-values>`_ for more details.\"\n",
      "2024/12/23 11:44:41 INFO mlflow.system_metrics.system_metrics_monitor: Stopping system metrics monitoring...\n",
      "2024/12/23 11:44:41 INFO mlflow.system_metrics.system_metrics_monitor: Successfully terminated system metrics monitoring!\n"
     ]
    },
    {
     "name": "stderr",
     "output_type": "stream",
     "text": [
      "2024/12/23 11:44:41 INFO mlflow.tracking.fluent: Autologging successfully enabled for statsmodels.\n",
      "2024/12/23 11:44:41 WARNING mlflow.system_metrics.system_metrics_monitor: Skip logging GPU metrics because creating `GPUMonitor` failed with error: `pynvml` is not installed, to log GPU metrics please run `pip install pynvml` to install it..\n",
      "2024/12/23 11:44:41 INFO mlflow.system_metrics.system_metrics_monitor: Started monitoring system metrics.\n",
      "2024/12/23 11:44:41 WARNING mlflow.utils.autologging_utils: MLflow autologging encountered a warning: \"/Users/Hena/anaconda3/lib/python3.11/site-packages/mlflow/types/utils.py:393: UserWarning: Hint: Inferred schema contains integer column(s). Integer columns in Python cannot represent missing values. If your input data contains missing values at inference time, it will be encoded as floats and will cause a schema enforcement error. The best way to avoid this problem is to infer the model schema based on a realistic data sample (training dataset) that includes missing values. Alternatively, you can declare integer columns as doubles (float64) whenever these columns may have missing values. See `Handling Integers With Missing Values <https://www.mlflow.org/docs/latest/models.html#handling-integers-with-missing-values>`_ for more details.\"\n",
      "2024/12/23 11:44:41 WARNING mlflow.utils.autologging_utils: MLflow autologging encountered a warning: \"/Users/Hena/anaconda3/lib/python3.11/site-packages/mlflow/types/utils.py:393: UserWarning: Hint: Inferred schema contains integer column(s). Integer columns in Python cannot represent missing values. If your input data contains missing values at inference time, it will be encoded as floats and will cause a schema enforcement error. The best way to avoid this problem is to infer the model schema based on a realistic data sample (training dataset) that includes missing values. Alternatively, you can declare integer columns as doubles (float64) whenever these columns may have missing values. See `Handling Integers With Missing Values <https://www.mlflow.org/docs/latest/models.html#handling-integers-with-missing-values>`_ for more details.\"\n",
      "2024/12/23 11:44:42 INFO mlflow.system_metrics.system_metrics_monitor: Stopping system metrics monitoring...\n",
      "2024/12/23 11:44:42 INFO mlflow.system_metrics.system_metrics_monitor: Successfully terminated system metrics monitoring!\n",
      "2024/12/23 11:44:42 INFO mlflow.tracking.fluent: Autologging successfully enabled for statsmodels.\n",
      "2024/12/23 11:44:42 WARNING mlflow.system_metrics.system_metrics_monitor: Skip logging GPU metrics because creating `GPUMonitor` failed with error: `pynvml` is not installed, to log GPU metrics please run `pip install pynvml` to install it..\n",
      "2024/12/23 11:44:42 INFO mlflow.system_metrics.system_metrics_monitor: Started monitoring system metrics.\n",
      "2024/12/23 11:44:42 WARNING mlflow.utils.autologging_utils: MLflow autologging encountered a warning: \"/Users/Hena/anaconda3/lib/python3.11/site-packages/mlflow/types/utils.py:393: UserWarning: Hint: Inferred schema contains integer column(s). Integer columns in Python cannot represent missing values. If your input data contains missing values at inference time, it will be encoded as floats and will cause a schema enforcement error. The best way to avoid this problem is to infer the model schema based on a realistic data sample (training dataset) that includes missing values. Alternatively, you can declare integer columns as doubles (float64) whenever these columns may have missing values. See `Handling Integers With Missing Values <https://www.mlflow.org/docs/latest/models.html#handling-integers-with-missing-values>`_ for more details.\"\n",
      "2024/12/23 11:44:42 WARNING mlflow.utils.autologging_utils: MLflow autologging encountered a warning: \"/Users/Hena/anaconda3/lib/python3.11/site-packages/mlflow/types/utils.py:393: UserWarning: Hint: Inferred schema contains integer column(s). Integer columns in Python cannot represent missing values. If your input data contains missing values at inference time, it will be encoded as floats and will cause a schema enforcement error. The best way to avoid this problem is to infer the model schema based on a realistic data sample (training dataset) that includes missing values. Alternatively, you can declare integer columns as doubles (float64) whenever these columns may have missing values. See `Handling Integers With Missing Values <https://www.mlflow.org/docs/latest/models.html#handling-integers-with-missing-values>`_ for more details.\"\n",
      "2024/12/23 11:44:44 INFO mlflow.system_metrics.system_metrics_monitor: Stopping system metrics monitoring...\n",
      "2024/12/23 11:44:44 INFO mlflow.system_metrics.system_metrics_monitor: Successfully terminated system metrics monitoring!\n",
      "2024/12/23 11:44:44 INFO mlflow.tracking.fluent: Autologging successfully enabled for statsmodels.\n",
      "2024/12/23 11:44:44 WARNING mlflow.system_metrics.system_metrics_monitor: Skip logging GPU metrics because creating `GPUMonitor` failed with error: `pynvml` is not installed, to log GPU metrics please run `pip install pynvml` to install it..\n",
      "2024/12/23 11:44:44 INFO mlflow.system_metrics.system_metrics_monitor: Started monitoring system metrics.\n",
      "2024/12/23 11:44:44 WARNING mlflow.utils.autologging_utils: MLflow autologging encountered a warning: \"/Users/Hena/anaconda3/lib/python3.11/site-packages/mlflow/types/utils.py:393: UserWarning: Hint: Inferred schema contains integer column(s). Integer columns in Python cannot represent missing values. If your input data contains missing values at inference time, it will be encoded as floats and will cause a schema enforcement error. The best way to avoid this problem is to infer the model schema based on a realistic data sample (training dataset) that includes missing values. Alternatively, you can declare integer columns as doubles (float64) whenever these columns may have missing values. See `Handling Integers With Missing Values <https://www.mlflow.org/docs/latest/models.html#handling-integers-with-missing-values>`_ for more details.\"\n",
      "2024/12/23 11:44:44 WARNING mlflow.utils.autologging_utils: MLflow autologging encountered a warning: \"/Users/Hena/anaconda3/lib/python3.11/site-packages/mlflow/types/utils.py:393: UserWarning: Hint: Inferred schema contains integer column(s). Integer columns in Python cannot represent missing values. If your input data contains missing values at inference time, it will be encoded as floats and will cause a schema enforcement error. The best way to avoid this problem is to infer the model schema based on a realistic data sample (training dataset) that includes missing values. Alternatively, you can declare integer columns as doubles (float64) whenever these columns may have missing values. See `Handling Integers With Missing Values <https://www.mlflow.org/docs/latest/models.html#handling-integers-with-missing-values>`_ for more details.\"\n",
      "2024/12/23 11:44:45 INFO mlflow.system_metrics.system_metrics_monitor: Stopping system metrics monitoring...\n",
      "2024/12/23 11:44:45 INFO mlflow.system_metrics.system_metrics_monitor: Successfully terminated system metrics monitoring!\n",
      "2024/12/23 11:44:45 INFO mlflow.tracking.fluent: Autologging successfully enabled for statsmodels.\n",
      "2024/12/23 11:44:45 WARNING mlflow.system_metrics.system_metrics_monitor: Skip logging GPU metrics because creating `GPUMonitor` failed with error: `pynvml` is not installed, to log GPU metrics please run `pip install pynvml` to install it..\n",
      "2024/12/23 11:44:45 INFO mlflow.system_metrics.system_metrics_monitor: Started monitoring system metrics.\n",
      "2024/12/23 11:44:45 WARNING mlflow.utils.autologging_utils: MLflow autologging encountered a warning: \"/Users/Hena/anaconda3/lib/python3.11/site-packages/mlflow/types/utils.py:393: UserWarning: Hint: Inferred schema contains integer column(s). Integer columns in Python cannot represent missing values. If your input data contains missing values at inference time, it will be encoded as floats and will cause a schema enforcement error. The best way to avoid this problem is to infer the model schema based on a realistic data sample (training dataset) that includes missing values. Alternatively, you can declare integer columns as doubles (float64) whenever these columns may have missing values. See `Handling Integers With Missing Values <https://www.mlflow.org/docs/latest/models.html#handling-integers-with-missing-values>`_ for more details.\"\n"
     ]
    },
    {
     "name": "stderr",
     "output_type": "stream",
     "text": [
      "2024/12/23 11:44:45 WARNING mlflow.utils.autologging_utils: MLflow autologging encountered a warning: \"/Users/Hena/anaconda3/lib/python3.11/site-packages/mlflow/types/utils.py:393: UserWarning: Hint: Inferred schema contains integer column(s). Integer columns in Python cannot represent missing values. If your input data contains missing values at inference time, it will be encoded as floats and will cause a schema enforcement error. The best way to avoid this problem is to infer the model schema based on a realistic data sample (training dataset) that includes missing values. Alternatively, you can declare integer columns as doubles (float64) whenever these columns may have missing values. See `Handling Integers With Missing Values <https://www.mlflow.org/docs/latest/models.html#handling-integers-with-missing-values>`_ for more details.\"\n",
      "2024/12/23 11:44:47 INFO mlflow.system_metrics.system_metrics_monitor: Stopping system metrics monitoring...\n",
      "2024/12/23 11:44:47 INFO mlflow.system_metrics.system_metrics_monitor: Successfully terminated system metrics monitoring!\n",
      "2024/12/23 11:44:47 INFO mlflow.tracking.fluent: Autologging successfully enabled for statsmodels.\n",
      "2024/12/23 11:44:47 WARNING mlflow.system_metrics.system_metrics_monitor: Skip logging GPU metrics because creating `GPUMonitor` failed with error: `pynvml` is not installed, to log GPU metrics please run `pip install pynvml` to install it..\n",
      "2024/12/23 11:44:47 INFO mlflow.system_metrics.system_metrics_monitor: Started monitoring system metrics.\n",
      "2024/12/23 11:44:47 WARNING mlflow.utils.autologging_utils: MLflow autologging encountered a warning: \"/Users/Hena/anaconda3/lib/python3.11/site-packages/mlflow/types/utils.py:393: UserWarning: Hint: Inferred schema contains integer column(s). Integer columns in Python cannot represent missing values. If your input data contains missing values at inference time, it will be encoded as floats and will cause a schema enforcement error. The best way to avoid this problem is to infer the model schema based on a realistic data sample (training dataset) that includes missing values. Alternatively, you can declare integer columns as doubles (float64) whenever these columns may have missing values. See `Handling Integers With Missing Values <https://www.mlflow.org/docs/latest/models.html#handling-integers-with-missing-values>`_ for more details.\"\n",
      "2024/12/23 11:44:47 WARNING mlflow.utils.autologging_utils: MLflow autologging encountered a warning: \"/Users/Hena/anaconda3/lib/python3.11/site-packages/mlflow/types/utils.py:393: UserWarning: Hint: Inferred schema contains integer column(s). Integer columns in Python cannot represent missing values. If your input data contains missing values at inference time, it will be encoded as floats and will cause a schema enforcement error. The best way to avoid this problem is to infer the model schema based on a realistic data sample (training dataset) that includes missing values. Alternatively, you can declare integer columns as doubles (float64) whenever these columns may have missing values. See `Handling Integers With Missing Values <https://www.mlflow.org/docs/latest/models.html#handling-integers-with-missing-values>`_ for more details.\"\n",
      "2024/12/23 11:44:48 INFO mlflow.system_metrics.system_metrics_monitor: Stopping system metrics monitoring...\n",
      "2024/12/23 11:44:48 INFO mlflow.system_metrics.system_metrics_monitor: Successfully terminated system metrics monitoring!\n",
      "2024/12/23 11:44:48 INFO mlflow.tracking.fluent: Autologging successfully enabled for statsmodels.\n",
      "2024/12/23 11:44:48 WARNING mlflow.system_metrics.system_metrics_monitor: Skip logging GPU metrics because creating `GPUMonitor` failed with error: `pynvml` is not installed, to log GPU metrics please run `pip install pynvml` to install it..\n",
      "2024/12/23 11:44:48 INFO mlflow.system_metrics.system_metrics_monitor: Started monitoring system metrics.\n",
      "2024/12/23 11:44:49 WARNING mlflow.utils.autologging_utils: MLflow autologging encountered a warning: \"/Users/Hena/anaconda3/lib/python3.11/site-packages/mlflow/types/utils.py:393: UserWarning: Hint: Inferred schema contains integer column(s). Integer columns in Python cannot represent missing values. If your input data contains missing values at inference time, it will be encoded as floats and will cause a schema enforcement error. The best way to avoid this problem is to infer the model schema based on a realistic data sample (training dataset) that includes missing values. Alternatively, you can declare integer columns as doubles (float64) whenever these columns may have missing values. See `Handling Integers With Missing Values <https://www.mlflow.org/docs/latest/models.html#handling-integers-with-missing-values>`_ for more details.\"\n",
      "2024/12/23 11:44:49 WARNING mlflow.utils.autologging_utils: MLflow autologging encountered a warning: \"/Users/Hena/anaconda3/lib/python3.11/site-packages/mlflow/types/utils.py:393: UserWarning: Hint: Inferred schema contains integer column(s). Integer columns in Python cannot represent missing values. If your input data contains missing values at inference time, it will be encoded as floats and will cause a schema enforcement error. The best way to avoid this problem is to infer the model schema based on a realistic data sample (training dataset) that includes missing values. Alternatively, you can declare integer columns as doubles (float64) whenever these columns may have missing values. See `Handling Integers With Missing Values <https://www.mlflow.org/docs/latest/models.html#handling-integers-with-missing-values>`_ for more details.\"\n",
      "2024/12/23 11:44:50 INFO mlflow.system_metrics.system_metrics_monitor: Stopping system metrics monitoring...\n",
      "2024/12/23 11:44:50 INFO mlflow.system_metrics.system_metrics_monitor: Successfully terminated system metrics monitoring!\n",
      "2024/12/23 11:44:50 INFO mlflow.tracking.fluent: Autologging successfully enabled for statsmodels.\n",
      "2024/12/23 11:44:50 WARNING mlflow.system_metrics.system_metrics_monitor: Skip logging GPU metrics because creating `GPUMonitor` failed with error: `pynvml` is not installed, to log GPU metrics please run `pip install pynvml` to install it..\n",
      "2024/12/23 11:44:50 INFO mlflow.system_metrics.system_metrics_monitor: Started monitoring system metrics.\n",
      "2024/12/23 11:44:50 WARNING mlflow.utils.autologging_utils: MLflow autologging encountered a warning: \"/Users/Hena/anaconda3/lib/python3.11/site-packages/mlflow/types/utils.py:393: UserWarning: Hint: Inferred schema contains integer column(s). Integer columns in Python cannot represent missing values. If your input data contains missing values at inference time, it will be encoded as floats and will cause a schema enforcement error. The best way to avoid this problem is to infer the model schema based on a realistic data sample (training dataset) that includes missing values. Alternatively, you can declare integer columns as doubles (float64) whenever these columns may have missing values. See `Handling Integers With Missing Values <https://www.mlflow.org/docs/latest/models.html#handling-integers-with-missing-values>`_ for more details.\"\n",
      "2024/12/23 11:44:50 WARNING mlflow.utils.autologging_utils: MLflow autologging encountered a warning: \"/Users/Hena/anaconda3/lib/python3.11/site-packages/mlflow/types/utils.py:393: UserWarning: Hint: Inferred schema contains integer column(s). Integer columns in Python cannot represent missing values. If your input data contains missing values at inference time, it will be encoded as floats and will cause a schema enforcement error. The best way to avoid this problem is to infer the model schema based on a realistic data sample (training dataset) that includes missing values. Alternatively, you can declare integer columns as doubles (float64) whenever these columns may have missing values. See `Handling Integers With Missing Values <https://www.mlflow.org/docs/latest/models.html#handling-integers-with-missing-values>`_ for more details.\"\n",
      "2024/12/23 11:44:52 INFO mlflow.system_metrics.system_metrics_monitor: Stopping system metrics monitoring...\n",
      "2024/12/23 11:44:52 INFO mlflow.system_metrics.system_metrics_monitor: Successfully terminated system metrics monitoring!\n"
     ]
    },
    {
     "name": "stderr",
     "output_type": "stream",
     "text": [
      "2024/12/23 11:44:52 INFO mlflow.tracking.fluent: Autologging successfully enabled for statsmodels.\n",
      "2024/12/23 11:44:52 WARNING mlflow.system_metrics.system_metrics_monitor: Skip logging GPU metrics because creating `GPUMonitor` failed with error: `pynvml` is not installed, to log GPU metrics please run `pip install pynvml` to install it..\n",
      "2024/12/23 11:44:52 INFO mlflow.system_metrics.system_metrics_monitor: Started monitoring system metrics.\n"
     ]
    }
   ],
   "source": [
    "experiment = run_experiment(num_runs=100, num_samples=25)"
   ]
  },
  {
   "cell_type": "code",
   "execution_count": null,
   "id": "d10e4f73",
   "metadata": {},
   "outputs": [],
   "source": [
    "get_best_model(experiment)"
   ]
  },
  {
   "cell_type": "code",
   "execution_count": null,
   "id": "d4b521bd",
   "metadata": {},
   "outputs": [],
   "source": [
    "df_runs = mlflow.search_runs(experiment, max_results=100)"
   ]
  },
  {
   "cell_type": "code",
   "execution_count": null,
   "id": "9f4899c0",
   "metadata": {},
   "outputs": [],
   "source": [
    "rmse = df_runs[\"metrics.training_root_mean_squared_error\"]"
   ]
  },
  {
   "cell_type": "code",
   "execution_count": null,
   "id": "db7084b7",
   "metadata": {},
   "outputs": [],
   "source": [
    "df_runs.describe()"
   ]
  },
  {
   "cell_type": "code",
   "execution_count": null,
   "id": "2b5076b7",
   "metadata": {},
   "outputs": [],
   "source": [
    "df_runs['duration'] = [(df_runs['end_time'][x] - df_runs['start_time'][x]).total_seconds() for x in range(0, df_runs.shape[0])]"
   ]
  },
  {
   "cell_type": "code",
   "execution_count": null,
   "id": "aeabd634",
   "metadata": {},
   "outputs": [],
   "source": [
    "fig1 = df_runs['metrics.training_root_mean_squared_error'].plot(kind='box', title='RMSE for linear regression (matmul)', grid=True).get_figure()\n",
    "fig1.savefig('figures/matmul_5k+_rmse.png')"
   ]
  },
  {
   "cell_type": "code",
   "execution_count": null,
   "id": "63692b8a",
   "metadata": {},
   "outputs": [],
   "source": [
    "fig2 = df_runs['duration'].plot(kind='box', title='Training duration for linear regression (matmul)', grid=True).get_figure()\n",
    "fig2.savefig('figures/matmul_5k+_duration.png')"
   ]
  },
  {
   "cell_type": "code",
   "execution_count": null,
   "id": "d260bfc4",
   "metadata": {},
   "outputs": [],
   "source": [
    "df_runs['duration'].describe()"
   ]
  },
  {
   "cell_type": "code",
   "execution_count": null,
   "id": "2a44d718",
   "metadata": {},
   "outputs": [],
   "source": [
    "fig1 = df_runs['metrics.training_r2_score'].plot(kind='box', title='R-squared scores for linear regression (matmul)', grid=True).get_figure()\n",
    "fig1.savefig('figures/matmul_5k+_r2.png')"
   ]
  },
  {
   "cell_type": "code",
   "execution_count": null,
   "id": "1bc71b08",
   "metadata": {},
   "outputs": [],
   "source": []
  }
 ],
 "metadata": {
  "kernelspec": {
   "display_name": "Python 3 (ipykernel)",
   "language": "python",
   "name": "python3"
  },
  "language_info": {
   "codemirror_mode": {
    "name": "ipython",
    "version": 3
   },
   "file_extension": ".py",
   "mimetype": "text/x-python",
   "name": "python",
   "nbconvert_exporter": "python",
   "pygments_lexer": "ipython3",
   "version": "3.11.5"
  }
 },
 "nbformat": 4,
 "nbformat_minor": 5
}
