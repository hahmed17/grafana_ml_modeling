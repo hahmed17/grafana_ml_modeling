{
 "cells": [
  {
   "cell_type": "code",
   "execution_count": null,
   "id": "e5da50cc",
   "metadata": {},
   "outputs": [],
   "source": [
    "import pandas as pd\n",
    "import numpy as np\n",
    "import matplotlib.pylab as plt\n",
    "import plotly\n",
    "import seaborn as sns"
   ]
  },
  {
   "cell_type": "code",
   "execution_count": null,
   "id": "b5a3036b",
   "metadata": {},
   "outputs": [],
   "source": [
    "# bp3d"
   ]
  },
  {
   "cell_type": "code",
   "execution_count": null,
   "id": "9d8cf564",
   "metadata": {},
   "outputs": [],
   "source": [
    "# import data\n",
    "df1 = pd.read_csv('bp3d_all-data_runs.csv')\n",
    "df2 = pd.read_csv('bp3d_less-data_runs.csv')"
   ]
  },
  {
   "cell_type": "code",
   "execution_count": null,
   "id": "a42c711d",
   "metadata": {},
   "outputs": [],
   "source": [
    "# retrieve duration columns\n",
    "duration_col1 = df1['Duration'].str.replace('s', '').astype(float)\n",
    "duration_col2 = df2['Duration'].str.replace('s', '').astype(float)\n",
    "duration_df = pd.DataFrame({'duration_all': duration_col1, 'duration_area_only': duration_col2})"
   ]
  },
  {
   "cell_type": "code",
   "execution_count": null,
   "id": "1ab86f27",
   "metadata": {},
   "outputs": [],
   "source": [
    "# retrieve RMSE scores\n",
    "rmse_col1 = df1['training_root_mean_squared_error']\n",
    "rmse_col2 = df2['training_root_mean_squared_error']\n",
    "rmse_df = pd.DataFrame({'rmse_all': rmse_col1, 'rmse_area_only': rmse_col2})"
   ]
  },
  {
   "cell_type": "code",
   "execution_count": null,
   "id": "d602d375",
   "metadata": {},
   "outputs": [],
   "source": [
    "# retrieve R^2 scores\n",
    "r2_col1 = df1['training_r2_score']\n",
    "r2_col2 = df2['training_r2_score']\n",
    "r2_df = pd.DataFrame({'r2_all': r2_col1, 'r2_area_only': r2_col2})"
   ]
  },
  {
   "cell_type": "code",
   "execution_count": null,
   "id": "a6e63df6",
   "metadata": {},
   "outputs": [],
   "source": [
    "duration_fig = duration_df.plot(kind='box', title='duration (seconds) for linear regression recommenders', grid=True).get_figure() \n",
    "duration_fig.savefig('../figures/bp3d_linreg_duration.png')"
   ]
  },
  {
   "cell_type": "code",
   "execution_count": null,
   "id": "6bc400d7",
   "metadata": {},
   "outputs": [],
   "source": [
    "rmse_fig = rmse_df.plot(kind='box', title='RMSE scores for linear regression recommenders', grid=True).get_figure()\n",
    "rmse_fig.savefig('../figures/bp3d_linreg_rmse.png')"
   ]
  },
  {
   "cell_type": "code",
   "execution_count": null,
   "id": "014565e6",
   "metadata": {},
   "outputs": [],
   "source": [
    "r2_fig = r2_df.plot(kind='box', title='R-squared scores for linear regression recommenders', grid=True).get_figure()\n",
    "r2_fig.savefig('../figures/bp3d_linreg_r2.png')"
   ]
  },
  {
   "cell_type": "code",
   "execution_count": null,
   "id": "8d199484",
   "metadata": {},
   "outputs": [],
   "source": []
  }
 ],
 "metadata": {
  "kernelspec": {
   "display_name": "Python 3 (ipykernel)",
   "language": "python",
   "name": "python3"
  },
  "language_info": {
   "codemirror_mode": {
    "name": "ipython",
    "version": 3
   },
   "file_extension": ".py",
   "mimetype": "text/x-python",
   "name": "python",
   "nbconvert_exporter": "python",
   "pygments_lexer": "ipython3",
   "version": "3.11.5"
  }
 },
 "nbformat": 4,
 "nbformat_minor": 5
}
