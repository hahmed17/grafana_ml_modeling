{
 "cells": [
  {
   "cell_type": "code",
   "execution_count": 1,
   "id": "2fd243e9",
   "metadata": {},
   "outputs": [],
   "source": [
    "import os\n",
    "import warnings\n",
    "import sys\n",
    "import pathlib\n",
    "import numpy as np\n",
    "import pandas as pd\n",
    "import matplotlib.pylab as plt\n",
    "import plotly\n",
    "import seaborn as sns\n",
    "from scipy import stats\n",
    "import statsmodels.api as sm\n",
    "import statsmodels.formula.api as smf\n",
    "import random\n",
    "from random import choices\n",
    "from string import ascii_lowercase, digits\n",
    "import datetime\n",
    "from pathlib import Path\n",
    "from functools import partial\n",
    "from itertools import starmap\n",
    "from dotenv import load_dotenv\n",
    "import requests\n",
    "\n",
    "from sklearn.linear_model import LinearRegression\n",
    "from sklearn.preprocessing import LabelEncoder\n",
    "from sklearn.metrics import mean_squared_error, mean_absolute_error, r2_score\n",
    "from sklearn.model_selection import train_test_split\n",
    "from sklearn.impute import SimpleImputer\n",
    "from sklearn import preprocessing"
   ]
  },
  {
   "cell_type": "code",
   "execution_count": 2,
   "id": "d354c706",
   "metadata": {},
   "outputs": [],
   "source": [
    "this_dir = pathlib.Path()\n",
    "parent_dir = this_dir.resolve().parent\n",
    "data_dir = this_dir / \"matmul-data\"\n",
    "\n",
    "# create results directory, if not already existing\n",
    "cwd = os.getcwd()\n",
    "results_dir = os.path.join(cwd, r'matmul_results')\n",
    "if not os.path.exists(results_dir):\n",
    "    os.makedirs(results_dir)"
   ]
  },
  {
   "cell_type": "markdown",
   "id": "e7c01a4c",
   "metadata": {},
   "source": [
    "# Implement a simple recommender algorithm as linear regression"
   ]
  },
  {
   "cell_type": "markdown",
   "id": "edddd16b",
   "metadata": {},
   "source": [
    "# Data Prep"
   ]
  },
  {
   "cell_type": "markdown",
   "id": "dc85c11b",
   "metadata": {},
   "source": [
    "Matmul key:\n",
    "\n",
    "0 = (1, 8)\n",
    "\n",
    "1 = (2, 8)\n",
    "\n",
    "2 = (3, 8)\n",
    "\n",
    "3 = (4, 8)\n",
    "\n",
    "4 = (8, 8)"
   ]
  },
  {
   "cell_type": "code",
   "execution_count": 3,
   "id": "3294122a",
   "metadata": {},
   "outputs": [],
   "source": [
    "hw_dict = {0 : (1,8), 1 : (2,8), 2 : (3,8), 3 : (4,8), 4 : (8,8)}"
   ]
  },
  {
   "cell_type": "code",
   "execution_count": 4,
   "id": "aac8cf13",
   "metadata": {},
   "outputs": [],
   "source": [
    "# Prepare data\n",
    "def data_prep(filename):\n",
    "# Read and log the input data \n",
    "    data_filepath = data_dir / filename\n",
    "    data = pd.read_csv(data_filepath)    \n",
    "    \n",
    "    ## DATA PREPROCESSING STEPS ##\n",
    "    # remove noisy features \n",
    "    df = data[['size', 'sparsity', 'min', 'max', 'hardware']]\n",
    "    \n",
    "    # Replace infty values with NaN\n",
    "    df.replace(['inf', np.inf, -np.inf], np.nan, inplace=True)\n",
    "\n",
    "    # Impute NaN values with mean\n",
    "    imp_mean = SimpleImputer(missing_values=np.nan, strategy='mean')\n",
    "    sample_data = df.sample(frac=0.25).dropna()\n",
    "    imp_mean.fit(df)\n",
    "    df = pd.DataFrame(imp_mean.fit_transform(df), columns = df.columns)\n",
    "    \n",
    "    # Encode categorical features\n",
    "#     for col_name in feature_cols.columns.tolist():\n",
    "#         df[col_name] = df[col_name].astype('category').cat.codes\n",
    "    \n",
    "    return df"
   ]
  },
  {
   "cell_type": "markdown",
   "id": "f8bf5eaa",
   "metadata": {},
   "source": [
    "## Create data sets"
   ]
  },
  {
   "cell_type": "code",
   "execution_count": 5,
   "id": "110fe3bc",
   "metadata": {},
   "outputs": [
    {
     "name": "stderr",
     "output_type": "stream",
     "text": [
      "/var/folders/l3/6m8snshj0qj86xy5g4l3qkvw0000gp/T/ipykernel_32097/3996634823.py:12: SettingWithCopyWarning: \n",
      "A value is trying to be set on a copy of a slice from a DataFrame\n",
      "\n",
      "See the caveats in the documentation: https://pandas.pydata.org/pandas-docs/stable/user_guide/indexing.html#returning-a-view-versus-a-copy\n",
      "  df.replace(['inf', np.inf, -np.inf], np.nan, inplace=True)\n",
      "/var/folders/l3/6m8snshj0qj86xy5g4l3qkvw0000gp/T/ipykernel_32097/3996634823.py:12: SettingWithCopyWarning: \n",
      "A value is trying to be set on a copy of a slice from a DataFrame\n",
      "\n",
      "See the caveats in the documentation: https://pandas.pydata.org/pandas-docs/stable/user_guide/indexing.html#returning-a-view-versus-a-copy\n",
      "  df.replace(['inf', np.inf, -np.inf], np.nan, inplace=True)\n"
     ]
    }
   ],
   "source": [
    "train1 = data_prep(\"train.csv\")\n",
    "test1 = data_prep(\"test.csv\")"
   ]
  },
  {
   "cell_type": "code",
   "execution_count": 6,
   "id": "51d40488",
   "metadata": {},
   "outputs": [
    {
     "name": "stderr",
     "output_type": "stream",
     "text": [
      "/var/folders/l3/6m8snshj0qj86xy5g4l3qkvw0000gp/T/ipykernel_32097/3996634823.py:12: SettingWithCopyWarning: \n",
      "A value is trying to be set on a copy of a slice from a DataFrame\n",
      "\n",
      "See the caveats in the documentation: https://pandas.pydata.org/pandas-docs/stable/user_guide/indexing.html#returning-a-view-versus-a-copy\n",
      "  df.replace(['inf', np.inf, -np.inf], np.nan, inplace=True)\n"
     ]
    }
   ],
   "source": [
    "df_5k = data_prep(\"size_5k+.csv\")\n",
    "train5k, test5k = train_test_split(df_5k, random_state=0, shuffle=False)"
   ]
  },
  {
   "cell_type": "code",
   "execution_count": 7,
   "id": "80a03cfe",
   "metadata": {},
   "outputs": [
    {
     "name": "stderr",
     "output_type": "stream",
     "text": [
      "/var/folders/l3/6m8snshj0qj86xy5g4l3qkvw0000gp/T/ipykernel_32097/3996634823.py:12: SettingWithCopyWarning: \n",
      "A value is trying to be set on a copy of a slice from a DataFrame\n",
      "\n",
      "See the caveats in the documentation: https://pandas.pydata.org/pandas-docs/stable/user_guide/indexing.html#returning-a-view-versus-a-copy\n",
      "  df.replace(['inf', np.inf, -np.inf], np.nan, inplace=True)\n"
     ]
    }
   ],
   "source": [
    "df_3k = data_prep(\"size_3k+.csv\") \n",
    "train3k, test3k = train_test_split(df_3k, random_state=0, shuffle=False)"
   ]
  },
  {
   "cell_type": "markdown",
   "id": "24addef5",
   "metadata": {},
   "source": [
    "# Training"
   ]
  },
  {
   "cell_type": "code",
   "execution_count": 8,
   "id": "876e4eb8",
   "metadata": {},
   "outputs": [],
   "source": [
    "## DEFINE MODEL TRAINING FUNCTIONS##\n",
    "\n",
    "def train_recommender(train, test, seed=None):\n",
    "    \n",
    "    target_column = \"hardware\"\n",
    "    \n",
    "    # Split train dataset\n",
    "    train_X = train.drop(columns=[target_column])  # Features\n",
    "    train_y = train[target_column]                # Target\n",
    "    \n",
    "    # Split test dataset\n",
    "    test_X = test.drop(columns=[target_column])  # Features\n",
    "    test_y = test[target_column]                # Target\n",
    "    \n",
    "    \n",
    "    # Execute recommender system\n",
    "    model = LinearRegression()\n",
    "    model.fit(train_X, train_y)\n",
    "    \n",
    "    predictions = model.predict(test_X)\n",
    "    \n",
    "    return train_X, test_X, test_y, predictions"
   ]
  },
  {
   "cell_type": "markdown",
   "id": "993c2f87",
   "metadata": {},
   "source": [
    "# Eval and plotting functions"
   ]
  },
  {
   "cell_type": "code",
   "execution_count": 9,
   "id": "64b486f3",
   "metadata": {},
   "outputs": [],
   "source": [
    "# MODEL EVALUATION FUNCTIONS #\n",
    "\n",
    "def eval_metrics(actual, pred):\n",
    "        mse = mean_squared_error(actual,pred)\n",
    "        mae = mean_absolute_error(actual, pred)\n",
    "        return {\"mse\": mse, \"mae\": mae}"
   ]
  },
  {
   "cell_type": "markdown",
   "id": "b701bc08",
   "metadata": {},
   "source": [
    "# matmul train/test results"
   ]
  },
  {
   "cell_type": "code",
   "execution_count": 10,
   "id": "a1d78c0f",
   "metadata": {},
   "outputs": [],
   "source": [
    "train_X, test_X, test_y, predictions = train_recommender(train1, test1)"
   ]
  },
  {
   "cell_type": "code",
   "execution_count": 11,
   "id": "d260bfc4",
   "metadata": {},
   "outputs": [
    {
     "name": "stdout",
     "output_type": "stream",
     "text": [
      "{'mse': 2.000278375442955, 'mae': 1.2009972425038318}\n"
     ]
    }
   ],
   "source": [
    "metrics = eval_metrics(test_y, predictions)\n",
    "print(metrics)"
   ]
  },
  {
   "cell_type": "markdown",
   "id": "e3234151",
   "metadata": {},
   "source": [
    "# matmul 5k+ results"
   ]
  },
  {
   "cell_type": "code",
   "execution_count": 12,
   "id": "e657b3f7",
   "metadata": {},
   "outputs": [],
   "source": [
    "train_X, test_X, test_y, predictions = train_recommender(train5k, test5k)"
   ]
  },
  {
   "cell_type": "code",
   "execution_count": 13,
   "id": "5f84c1aa",
   "metadata": {},
   "outputs": [
    {
     "name": "stdout",
     "output_type": "stream",
     "text": [
      "{'mse': 6.144628099173556, 'mae': 2.454545454545455}\n"
     ]
    }
   ],
   "source": [
    "metrics = eval_metrics(test_y, predictions)\n",
    "print(metrics)"
   ]
  },
  {
   "cell_type": "markdown",
   "id": "c75bb77f",
   "metadata": {},
   "source": [
    "# matmul 3k+ results"
   ]
  },
  {
   "cell_type": "code",
   "execution_count": 14,
   "id": "f1b6bb8f",
   "metadata": {},
   "outputs": [],
   "source": [
    "train_X, test_X, test_y, predictions = train_recommender(train3k, test3k)"
   ]
  },
  {
   "cell_type": "code",
   "execution_count": 15,
   "id": "b81fad21",
   "metadata": {},
   "outputs": [
    {
     "name": "stdout",
     "output_type": "stream",
     "text": [
      "{'mse': 6.177123932261412, 'mae': 2.461840679572031}\n"
     ]
    }
   ],
   "source": [
    "metrics = eval_metrics(test_y, predictions)\n",
    "print(metrics)"
   ]
  },
  {
   "cell_type": "markdown",
   "id": "2203cfcf",
   "metadata": {},
   "source": [
    "# matmul 5k/3k"
   ]
  },
  {
   "cell_type": "code",
   "execution_count": 16,
   "id": "4552cc02",
   "metadata": {},
   "outputs": [
    {
     "name": "stdout",
     "output_type": "stream",
     "text": [
      "{'mse': 2.0, 'mae': 1.2}\n"
     ]
    }
   ],
   "source": [
    "train_X, test_X, test_y, predictions = train_recommender(df_5k, df_3k)\n",
    "metrics = eval_metrics(test_y, predictions)\n",
    "print(metrics)"
   ]
  },
  {
   "cell_type": "markdown",
   "id": "ce20aba5",
   "metadata": {},
   "source": [
    "# matmul 5k+3k"
   ]
  },
  {
   "cell_type": "code",
   "execution_count": 17,
   "id": "b5ab7f73",
   "metadata": {},
   "outputs": [],
   "source": [
    "df_combined = pd.concat([df_5k, df_3k])"
   ]
  },
  {
   "cell_type": "code",
   "execution_count": 18,
   "id": "3b2e127b",
   "metadata": {},
   "outputs": [],
   "source": [
    "# Combine and split 5k+/3k+ data sets\n",
    "train2, test2 = train_test_split(df_combined, random_state=0, shuffle=True)"
   ]
  },
  {
   "cell_type": "code",
   "execution_count": 19,
   "id": "164bcd8e",
   "metadata": {},
   "outputs": [
    {
     "name": "stdout",
     "output_type": "stream",
     "text": [
      "{'mse': 1.942692512815108, 'mae': 1.1911644246913389}\n"
     ]
    }
   ],
   "source": [
    "train_X, test_X, test_y, predictions = train_recommender(train2, test2)\n",
    "metrics = eval_metrics(test_y, predictions)\n",
    "print(metrics)"
   ]
  },
  {
   "cell_type": "code",
   "execution_count": null,
   "id": "81e512f6",
   "metadata": {},
   "outputs": [],
   "source": []
  }
 ],
 "metadata": {
  "kernelspec": {
   "display_name": "Python 3 (ipykernel)",
   "language": "python",
   "name": "python3"
  },
  "language_info": {
   "codemirror_mode": {
    "name": "ipython",
    "version": 3
   },
   "file_extension": ".py",
   "mimetype": "text/x-python",
   "name": "python",
   "nbconvert_exporter": "python",
   "pygments_lexer": "ipython3",
   "version": "3.11.5"
  }
 },
 "nbformat": 4,
 "nbformat_minor": 5
}
